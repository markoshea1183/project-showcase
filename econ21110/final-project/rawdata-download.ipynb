{
 "cells": [
  {
   "cell_type": "code",
   "execution_count": 15,
   "id": "f715be1c",
   "metadata": {},
   "outputs": [],
   "source": [
    "import pandas as pd\n",
    "import numpy as np\n",
    "import statsmodels.api as sm\n",
    "from IPython.display import display\n",
    "import scipy.stats as stats\n",
    "import matplotlib.pyplot as plt"
   ]
  },
  {
   "cell_type": "code",
   "execution_count": 4,
   "id": "51aeb4fb",
   "metadata": {},
   "outputs": [],
   "source": [
    "# set the path to the directory containing the folder 'rawdata'\n",
    "path_start = '/Users/markoshea/Desktop/Working Directories/Datasets/rep_files/rawdata/'"
   ]
  },
  {
   "cell_type": "code",
   "execution_count": null,
   "id": "4156f49d",
   "metadata": {},
   "outputs": [],
   "source": [
    "# raw data on State GDP and Compensation from BEA\n",
    "comp_69_89 = pd.read_csv(path_start + 'comp1969to1989currentdollars.csv')\n",
    "comp2 = pd.read_csv(path_start + 'comp2.csv')\n",
    "gdp_69_89 = pd.read_csv(path_start + 'gdp1969to1989currentdollars.csv')\n",
    "gdp2 = pd.read_csv(path_start + 'GDP2.csv')\n",
    "\n",
    "# shapefile data to construct cartographic boundary shapefiles at US Census Bureau\n",
    "'cb_2013_us_state_5m.dbf'\n",
    "'cb_2013_us_state_5m.shp'\n",
    "\n",
    "# goal: replicate createBEA.do(BEA csv files) --> gdpandcomp.dta"
   ]
  },
  {
   "cell_type": "code",
   "execution_count": 6,
   "id": "1604f720",
   "metadata": {},
   "outputs": [],
   "source": [
    "# raw data on state capital stock from Yamarik (2017) \n",
    "capital_yamarik = pd.read_stata(path_start + 'capital_yamarik.dta')"
   ]
  },
  {
   "cell_type": "code",
   "execution_count": 16,
   "id": "7fb144d3",
   "metadata": {},
   "outputs": [],
   "source": [
    "# raw data on state populations, labor shares, industry composition (Census data) \n",
    "# from Ruggles (2022)\n",
    "\n",
    "# usa_00056 = pd.read_csv(path_start + 'usa_00056.dat', header=None)\n",
    "\n",
    "# goal: replicate usa_00056.do(usa_00056) --> indshares.dta, spred10, spred20, \n",
    "# spred30, spred40, otheroutcomes.dta"
   ]
  },
  {
   "cell_type": "code",
   "execution_count": null,
   "id": "a33a86ba",
   "metadata": {},
   "outputs": [],
   "source": [
    "# issues to revisit: \n",
    "# 1) relevance of the two shapefiles is still unclear\n",
    "# 2) inability to read and interpret usa_00056.dat\n",
    "# 3) uncler why ACS.dta, uscoord.dta, and usdb.dta are in rawfiles, and how they\n",
    "# are sourced or built"
   ]
  }
 ],
 "metadata": {
  "kernelspec": {
   "display_name": "Python 3",
   "language": "python",
   "name": "python3"
  },
  "language_info": {
   "codemirror_mode": {
    "name": "ipython",
    "version": 3
   },
   "file_extension": ".py",
   "mimetype": "text/x-python",
   "name": "python",
   "nbconvert_exporter": "python",
   "pygments_lexer": "ipython3",
   "version": "3.10.4"
  }
 },
 "nbformat": 4,
 "nbformat_minor": 5
}
