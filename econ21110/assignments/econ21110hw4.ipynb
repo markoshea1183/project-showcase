{
 "cells": [
  {
   "cell_type": "code",
   "execution_count": 1,
   "metadata": {},
   "outputs": [],
   "source": [
    "import pandas as pd\n",
    "import numpy as np\n",
    "import statsmodels.api as sm\n",
    "from IPython.display import display\n",
    "import scipy.stats as stats\n",
    "import matplotlib.pyplot as plt\n",
    "import pyreadstat\n",
    "import seaborn as sns\n",
    "from linearmodels.iv import IV2SLS"
   ]
  },
  {
   "cell_type": "code",
   "execution_count": 2,
   "metadata": {},
   "outputs": [],
   "source": [
    "#load df\n",
    "file_path = \"/Users/markoshea/Desktop/Working Directories/Datasets/CENSUS7080.dta\"\n",
    "censusdf = pd.read_stata(file_path)"
   ]
  },
  {
   "cell_type": "code",
   "execution_count": 3,
   "metadata": {},
   "outputs": [
    {
     "name": "stdout",
     "output_type": "stream",
     "text": [
      "Variable Labels (Descriptions):\n",
      "AGEQ: age at the census inclusive of quarter of birth\n",
      "EDUC: years of education\n",
      "ENOCENT: One of the 8 region of residence dummies\n",
      "ESOCENT: One of the 8 region of residence dummies\n",
      "LWKLYWGE: Log of weekly wage\n",
      "MARRIED: None\n",
      "MIDATL: One of the 8 region of residence dummies\n",
      "MT: One of the 8 region of residence dummies\n",
      "NEWENG: One of the 8 region of residence dummies\n",
      "CENSUS: Census Year\n",
      "QOB: Quarter of birth\n",
      "RACE: None\n",
      "SMSA: None\n",
      "SOATL: One of the 8 region of residence dummies\n",
      "WNOCENT: One of the 8 region of residence dummies\n",
      "WSOCENT: One of the 8 region of residence dummies\n",
      "YOB: Year of Birth\n"
     ]
    }
   ],
   "source": [
    "# load dataset y1 using python equivalent of describe command in Stata\n",
    "censusdf_meta, meta = pyreadstat.read_dta(file_path, metadataonly=True)\n",
    "\n",
    "if meta.column_labels:\n",
    "    print(\"Variable Labels (Descriptions):\")\n",
    "    for var, label in zip(meta.column_names, meta.column_labels):\n",
    "        print(f\"{var}: {label}\")\n",
    "else:\n",
    "    print(\"No variable labels found in the dataset.\")"
   ]
  },
  {
   "cell_type": "markdown",
   "metadata": {},
   "source": [
    "Q2 (a)\n",
    "\n",
    "The main idea of this paper is that the authors attempt to measure the effect of compulsory schooling on earnings; to address endogeneity, they use quarter of birth as an instrumental variable. In doing so, the primary issue that the authors get at is that many students end up staying in school for longer than they otherwise would due to compulsory schooling requirments. Since the age at which compulsory schooling ends varies by region, the authors are able to estimate the marginal causal effect of increasing the age at which education is no longer compulsory. They use quarter of birth as an instrument because it is unlikely to be correlated with factors other than the age at which a student enters school, so it is deemed to be exogenous in a model predicting compulsory schooling's impact on education and earnings. "
   ]
  },
  {
   "cell_type": "markdown",
   "metadata": {},
   "source": [
    "Q2 (b)\n",
    "\n",
    "To be a valid instrument, we require that quarter of birth is exogenous in that it only affect earnings via its impact on school attendance–not through any other means. Some potential violations might be:\n",
    "\n",
    "- Certain factors that might have an impact on life development such as parent income, education, location, etc might impact birth timing. Certain parents might even plan births around school's start date\n",
    "- Entering school at a slightly different age and a child's awareness of how old they are relative to their peers might impact development in the long run\n"
   ]
  },
  {
   "cell_type": "markdown",
   "metadata": {},
   "source": [
    "Q2 (c)\n",
    "\n",
    "The main idea in Table 1 is that the authors are attempting to quantify the impact of quarter of birth on a given level of education. They take data for two cohorts (1930-1939 and 1940-1949) based on year of birth and, for a fixed cohort, use the quarter of birth (1st-4th) to model the expected number of years of education. They specifically model this by comparing the difference in (whatever education metric) relative to the 4th quarter, which explains why data is only explained for quarters I-III. They find a clear cyclical trend, with almost all p-values significant and the coefficients negative; it seems clear that for whatever reasons–for a fixed cohort–being born in the 4th quarter predicts more education than being born in an earlier time of year. While I have yet to be convinced as to the reasons, given the significance of the data, it seems to be a clear trend that I am convinced by. In the first two panels, the outcome variables are total years of education and high school graduate - distinguishing these is important for capturing the effect of dropping out and not becoming a high school graduate. For the bottom panels, they measure the effect of quarter of birth on education for higher levels of education because those levels are not subject to compulsory education requirements."
   ]
  },
  {
   "cell_type": "markdown",
   "metadata": {},
   "source": [
    "Q2 (d)\n",
    "It is possible that this is generalizable to other countries, but we would need certain conditions to hold that might not be true. One of the biggest is that compulsory schooling laws might be different or nonexistant in other countries. Students might be able to drop out based on different metrics. Students might also be able to join school at different times. One of our major assumptions here is that students can begin school in the fall if they were 6 years old by January 1st of that year–that might not hold in different countries. Thus, for our instrument to be relevant, we need there to be a meaningful relationship between birth timing and schooling.\n",
    "\n",
    "Also, for our instrument to be exogenous, we require that quarter of birth must not directly impact earnings, except via schooling. Other countries might have that there are systematic differences in background, personal attributes, etc based on birth quarter. "
   ]
  },
  {
   "cell_type": "markdown",
   "metadata": {},
   "source": [
    "Q2 (e)\n",
    "\n"
   ]
  }
 ],
 "metadata": {
  "kernelspec": {
   "display_name": "Python 3",
   "language": "python",
   "name": "python3"
  },
  "language_info": {
   "codemirror_mode": {
    "name": "ipython",
    "version": 3
   },
   "file_extension": ".py",
   "mimetype": "text/x-python",
   "name": "python",
   "nbconvert_exporter": "python",
   "pygments_lexer": "ipython3",
   "version": "3.10.4"
  }
 },
 "nbformat": 4,
 "nbformat_minor": 2
}
