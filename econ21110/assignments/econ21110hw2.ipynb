{
 "cells": [
  {
   "cell_type": "code",
   "execution_count": 54,
   "metadata": {},
   "outputs": [],
   "source": [
    "import pandas as pd\n",
    "import numpy as np\n",
    "import statsmodels.api as sm\n",
    "from IPython.display import display\n",
    "import scipy.stats as stats\n",
    "import matplotlib.pyplot as plt"
   ]
  },
  {
   "cell_type": "markdown",
   "metadata": {},
   "source": [
    "Hey Dylan, I apologize for not submitting as a PDF. I spent over an hour downloading packages and trying methods to download this as a PDF, but was unsuccessful. Will give it another shot this weekend"
   ]
  },
  {
   "cell_type": "code",
   "execution_count": 5,
   "metadata": {},
   "outputs": [
    {
     "data": {
      "text/html": [
       "<div>\n",
       "<style scoped>\n",
       "    .dataframe tbody tr th:only-of-type {\n",
       "        vertical-align: middle;\n",
       "    }\n",
       "\n",
       "    .dataframe tbody tr th {\n",
       "        vertical-align: top;\n",
       "    }\n",
       "\n",
       "    .dataframe thead th {\n",
       "        text-align: right;\n",
       "    }\n",
       "</style>\n",
       "<table border=\"1\" class=\"dataframe\">\n",
       "  <thead>\n",
       "    <tr style=\"text-align: right;\">\n",
       "      <th></th>\n",
       "      <th>sat</th>\n",
       "      <th>tothrs</th>\n",
       "      <th>colgpa</th>\n",
       "      <th>athlete</th>\n",
       "      <th>verbmath</th>\n",
       "      <th>hsize</th>\n",
       "      <th>hsrank</th>\n",
       "      <th>hsperc</th>\n",
       "      <th>female</th>\n",
       "      <th>white</th>\n",
       "      <th>black</th>\n",
       "      <th>hsizesq</th>\n",
       "    </tr>\n",
       "  </thead>\n",
       "  <tbody>\n",
       "    <tr>\n",
       "      <th>0</th>\n",
       "      <td>920</td>\n",
       "      <td>43</td>\n",
       "      <td>2.04</td>\n",
       "      <td>1</td>\n",
       "      <td>0.48387</td>\n",
       "      <td>0.10</td>\n",
       "      <td>4</td>\n",
       "      <td>40.000000</td>\n",
       "      <td>1</td>\n",
       "      <td>0</td>\n",
       "      <td>0</td>\n",
       "      <td>0.010000</td>\n",
       "    </tr>\n",
       "    <tr>\n",
       "      <th>1</th>\n",
       "      <td>1170</td>\n",
       "      <td>18</td>\n",
       "      <td>4.00</td>\n",
       "      <td>0</td>\n",
       "      <td>0.82813</td>\n",
       "      <td>9.40</td>\n",
       "      <td>191</td>\n",
       "      <td>20.319149</td>\n",
       "      <td>0</td>\n",
       "      <td>1</td>\n",
       "      <td>0</td>\n",
       "      <td>88.360001</td>\n",
       "    </tr>\n",
       "    <tr>\n",
       "      <th>2</th>\n",
       "      <td>810</td>\n",
       "      <td>14</td>\n",
       "      <td>1.78</td>\n",
       "      <td>1</td>\n",
       "      <td>0.88372</td>\n",
       "      <td>1.19</td>\n",
       "      <td>42</td>\n",
       "      <td>35.294117</td>\n",
       "      <td>0</td>\n",
       "      <td>1</td>\n",
       "      <td>0</td>\n",
       "      <td>1.416100</td>\n",
       "    </tr>\n",
       "    <tr>\n",
       "      <th>3</th>\n",
       "      <td>940</td>\n",
       "      <td>40</td>\n",
       "      <td>2.42</td>\n",
       "      <td>0</td>\n",
       "      <td>0.80769</td>\n",
       "      <td>5.71</td>\n",
       "      <td>252</td>\n",
       "      <td>44.133099</td>\n",
       "      <td>0</td>\n",
       "      <td>1</td>\n",
       "      <td>0</td>\n",
       "      <td>32.604099</td>\n",
       "    </tr>\n",
       "    <tr>\n",
       "      <th>4</th>\n",
       "      <td>1180</td>\n",
       "      <td>18</td>\n",
       "      <td>2.61</td>\n",
       "      <td>0</td>\n",
       "      <td>0.73529</td>\n",
       "      <td>2.14</td>\n",
       "      <td>86</td>\n",
       "      <td>40.186916</td>\n",
       "      <td>0</td>\n",
       "      <td>1</td>\n",
       "      <td>0</td>\n",
       "      <td>4.579600</td>\n",
       "    </tr>\n",
       "  </tbody>\n",
       "</table>\n",
       "</div>"
      ],
      "text/plain": [
       "    sat  tothrs  colgpa  athlete  verbmath  hsize  hsrank     hsperc  female  \\\n",
       "0   920      43    2.04        1   0.48387   0.10       4  40.000000       1   \n",
       "1  1170      18    4.00        0   0.82813   9.40     191  20.319149       0   \n",
       "2   810      14    1.78        1   0.88372   1.19      42  35.294117       0   \n",
       "3   940      40    2.42        0   0.80769   5.71     252  44.133099       0   \n",
       "4  1180      18    2.61        0   0.73529   2.14      86  40.186916       0   \n",
       "\n",
       "   white  black    hsizesq  \n",
       "0      0      0   0.010000  \n",
       "1      1      0  88.360001  \n",
       "2      1      0   1.416100  \n",
       "3      1      0  32.604099  \n",
       "4      1      0   4.579600  "
      ]
     },
     "execution_count": 5,
     "metadata": {},
     "output_type": "execute_result"
    }
   ],
   "source": [
    "file_path = \"/Users/markoshea/Desktop/Working Directories/Datasets/gpa2.dta\"\n",
    "df = pd.read_stata(file_path)\n",
    "df.head() "
   ]
  },
  {
   "cell_type": "code",
   "execution_count": null,
   "metadata": {},
   "outputs": [],
   "source": []
  },
  {
   "cell_type": "code",
   "execution_count": 6,
   "metadata": {},
   "outputs": [
    {
     "data": {
      "text/html": [
       "<div>\n",
       "<style scoped>\n",
       "    .dataframe tbody tr th:only-of-type {\n",
       "        vertical-align: middle;\n",
       "    }\n",
       "\n",
       "    .dataframe tbody tr th {\n",
       "        vertical-align: top;\n",
       "    }\n",
       "\n",
       "    .dataframe thead th {\n",
       "        text-align: right;\n",
       "    }\n",
       "</style>\n",
       "<table border=\"1\" class=\"dataframe\">\n",
       "  <thead>\n",
       "    <tr style=\"text-align: right;\">\n",
       "      <th></th>\n",
       "      <th>sat</th>\n",
       "      <th>tothrs</th>\n",
       "      <th>colgpa</th>\n",
       "      <th>athlete</th>\n",
       "      <th>verbmath</th>\n",
       "      <th>hsize</th>\n",
       "      <th>hsrank</th>\n",
       "      <th>hsperc</th>\n",
       "      <th>female</th>\n",
       "      <th>white</th>\n",
       "      <th>black</th>\n",
       "      <th>hsizesq</th>\n",
       "    </tr>\n",
       "  </thead>\n",
       "  <tbody>\n",
       "    <tr>\n",
       "      <th>count</th>\n",
       "      <td>4137.000000</td>\n",
       "      <td>4137.000000</td>\n",
       "      <td>4137.000000</td>\n",
       "      <td>4137.000000</td>\n",
       "      <td>4137.000000</td>\n",
       "      <td>4137.000000</td>\n",
       "      <td>4137.000000</td>\n",
       "      <td>4137.000000</td>\n",
       "      <td>4137.000000</td>\n",
       "      <td>4137.000000</td>\n",
       "      <td>4137.000000</td>\n",
       "      <td>4137.000000</td>\n",
       "    </tr>\n",
       "    <tr>\n",
       "      <th>mean</th>\n",
       "      <td>1030.331158</td>\n",
       "      <td>52.832246</td>\n",
       "      <td>2.652686</td>\n",
       "      <td>0.046894</td>\n",
       "      <td>0.880537</td>\n",
       "      <td>2.799727</td>\n",
       "      <td>52.830070</td>\n",
       "      <td>19.237070</td>\n",
       "      <td>0.449601</td>\n",
       "      <td>0.925550</td>\n",
       "      <td>0.055354</td>\n",
       "      <td>10.853449</td>\n",
       "    </tr>\n",
       "    <tr>\n",
       "      <th>std</th>\n",
       "      <td>139.401392</td>\n",
       "      <td>35.329595</td>\n",
       "      <td>0.658635</td>\n",
       "      <td>0.211437</td>\n",
       "      <td>0.149123</td>\n",
       "      <td>1.736579</td>\n",
       "      <td>64.683584</td>\n",
       "      <td>16.568727</td>\n",
       "      <td>0.497514</td>\n",
       "      <td>0.262534</td>\n",
       "      <td>0.228698</td>\n",
       "      <td>12.623054</td>\n",
       "    </tr>\n",
       "    <tr>\n",
       "      <th>min</th>\n",
       "      <td>470.000000</td>\n",
       "      <td>6.000000</td>\n",
       "      <td>0.000000</td>\n",
       "      <td>0.000000</td>\n",
       "      <td>0.259740</td>\n",
       "      <td>0.030000</td>\n",
       "      <td>1.000000</td>\n",
       "      <td>0.166667</td>\n",
       "      <td>0.000000</td>\n",
       "      <td>0.000000</td>\n",
       "      <td>0.000000</td>\n",
       "      <td>0.000900</td>\n",
       "    </tr>\n",
       "    <tr>\n",
       "      <th>25%</th>\n",
       "      <td>940.000000</td>\n",
       "      <td>17.000000</td>\n",
       "      <td>2.210000</td>\n",
       "      <td>0.000000</td>\n",
       "      <td>0.775860</td>\n",
       "      <td>1.650000</td>\n",
       "      <td>11.000000</td>\n",
       "      <td>6.432748</td>\n",
       "      <td>0.000000</td>\n",
       "      <td>1.000000</td>\n",
       "      <td>0.000000</td>\n",
       "      <td>2.722500</td>\n",
       "    </tr>\n",
       "    <tr>\n",
       "      <th>50%</th>\n",
       "      <td>1030.000000</td>\n",
       "      <td>47.000000</td>\n",
       "      <td>2.660000</td>\n",
       "      <td>0.000000</td>\n",
       "      <td>0.866670</td>\n",
       "      <td>2.510000</td>\n",
       "      <td>30.000000</td>\n",
       "      <td>14.583333</td>\n",
       "      <td>0.000000</td>\n",
       "      <td>1.000000</td>\n",
       "      <td>0.000000</td>\n",
       "      <td>6.300100</td>\n",
       "    </tr>\n",
       "    <tr>\n",
       "      <th>75%</th>\n",
       "      <td>1120.000000</td>\n",
       "      <td>80.000000</td>\n",
       "      <td>3.120000</td>\n",
       "      <td>0.000000</td>\n",
       "      <td>0.964910</td>\n",
       "      <td>3.680000</td>\n",
       "      <td>70.000000</td>\n",
       "      <td>27.710844</td>\n",
       "      <td>1.000000</td>\n",
       "      <td>1.000000</td>\n",
       "      <td>0.000000</td>\n",
       "      <td>13.542400</td>\n",
       "    </tr>\n",
       "    <tr>\n",
       "      <th>max</th>\n",
       "      <td>1540.000000</td>\n",
       "      <td>137.000000</td>\n",
       "      <td>4.000000</td>\n",
       "      <td>1.000000</td>\n",
       "      <td>1.666670</td>\n",
       "      <td>9.400000</td>\n",
       "      <td>634.000000</td>\n",
       "      <td>92.000000</td>\n",
       "      <td>1.000000</td>\n",
       "      <td>1.000000</td>\n",
       "      <td>1.000000</td>\n",
       "      <td>88.360001</td>\n",
       "    </tr>\n",
       "  </tbody>\n",
       "</table>\n",
       "</div>"
      ],
      "text/plain": [
       "               sat       tothrs       colgpa      athlete     verbmath  \\\n",
       "count  4137.000000  4137.000000  4137.000000  4137.000000  4137.000000   \n",
       "mean   1030.331158    52.832246     2.652686     0.046894     0.880537   \n",
       "std     139.401392    35.329595     0.658635     0.211437     0.149123   \n",
       "min     470.000000     6.000000     0.000000     0.000000     0.259740   \n",
       "25%     940.000000    17.000000     2.210000     0.000000     0.775860   \n",
       "50%    1030.000000    47.000000     2.660000     0.000000     0.866670   \n",
       "75%    1120.000000    80.000000     3.120000     0.000000     0.964910   \n",
       "max    1540.000000   137.000000     4.000000     1.000000     1.666670   \n",
       "\n",
       "             hsize       hsrank       hsperc       female        white  \\\n",
       "count  4137.000000  4137.000000  4137.000000  4137.000000  4137.000000   \n",
       "mean      2.799727    52.830070    19.237070     0.449601     0.925550   \n",
       "std       1.736579    64.683584    16.568727     0.497514     0.262534   \n",
       "min       0.030000     1.000000     0.166667     0.000000     0.000000   \n",
       "25%       1.650000    11.000000     6.432748     0.000000     1.000000   \n",
       "50%       2.510000    30.000000    14.583333     0.000000     1.000000   \n",
       "75%       3.680000    70.000000    27.710844     1.000000     1.000000   \n",
       "max       9.400000   634.000000    92.000000     1.000000     1.000000   \n",
       "\n",
       "             black      hsizesq  \n",
       "count  4137.000000  4137.000000  \n",
       "mean      0.055354    10.853449  \n",
       "std       0.228698    12.623054  \n",
       "min       0.000000     0.000900  \n",
       "25%       0.000000     2.722500  \n",
       "50%       0.000000     6.300100  \n",
       "75%       0.000000    13.542400  \n",
       "max       1.000000    88.360001  "
      ]
     },
     "execution_count": 6,
     "metadata": {},
     "output_type": "execute_result"
    }
   ],
   "source": [
    "df.describe() "
   ]
  },
  {
   "cell_type": "code",
   "execution_count": 52,
   "metadata": {},
   "outputs": [
    {
     "name": "stdout",
     "output_type": "stream",
     "text": [
      "                            OLS Regression Results                            \n",
      "==============================================================================\n",
      "Dep. Variable:                 colgpa   R-squared:                       0.012\n",
      "Model:                            OLS   Adj. R-squared:                  0.011\n",
      "Method:                 Least Squares   F-statistic:                     48.16\n",
      "Date:                Wed, 29 Jan 2025   Prob (F-statistic):           4.55e-12\n",
      "Time:                        01:25:01   Log-Likelihood:                -4118.1\n",
      "No. Observations:                4137   AIC:                             8240.\n",
      "Df Residuals:                    4135   BIC:                             8253.\n",
      "Df Model:                           1                                         \n",
      "Covariance Type:            nonrobust                                         \n",
      "==============================================================================\n",
      "                 coef    std err          t      P>|t|      [0.025      0.975]\n",
      "------------------------------------------------------------------------------\n",
      "const          2.5888      0.014    188.626      0.000       2.562       2.616\n",
      "female         0.1420      0.020      6.940      0.000       0.102       0.182\n",
      "==============================================================================\n",
      "Omnibus:                       27.257   Durbin-Watson:                   1.958\n",
      "Prob(Omnibus):                  0.000   Jarque-Bera (JB):               27.773\n",
      "Skew:                          -0.189   Prob(JB):                     9.32e-07\n",
      "Kurtosis:                       3.136   Cond. No.                         2.52\n",
      "==============================================================================\n",
      "\n",
      "Notes:\n",
      "[1] Standard Errors assume that the covariance matrix of the errors is correctly specified.\n"
     ]
    }
   ],
   "source": [
    "#run OLS for model m1: colgpa_i = beta_0 + beta_1 * female_i + U_i\n",
    "\n",
    "m1_y = df['colgpa']\n",
    "m1_X = df[['female']]\n",
    "\n",
    "m1_X = sm.add_constant(m1_X)\n",
    "\n",
    "m1 = sm.OLS(m1_y, m1_X)\n",
    "m1_results = m1.fit()\n",
    "\n",
    "print(m1_results.summary())"
   ]
  },
  {
   "cell_type": "code",
   "execution_count": 35,
   "metadata": {},
   "outputs": [
    {
     "data": {
      "text/html": [
       "<div>\n",
       "<style scoped>\n",
       "    .dataframe tbody tr th:only-of-type {\n",
       "        vertical-align: middle;\n",
       "    }\n",
       "\n",
       "    .dataframe tbody tr th {\n",
       "        vertical-align: top;\n",
       "    }\n",
       "\n",
       "    .dataframe thead th {\n",
       "        text-align: right;\n",
       "    }\n",
       "</style>\n",
       "<table border=\"1\" class=\"dataframe\">\n",
       "  <thead>\n",
       "    <tr style=\"text-align: right;\">\n",
       "      <th></th>\n",
       "      <th>Coef.</th>\n",
       "      <th>Std.Err.</th>\n",
       "      <th>t</th>\n",
       "      <th>P&gt;|t|</th>\n",
       "      <th>[0.025</th>\n",
       "      <th>0.975]</th>\n",
       "    </tr>\n",
       "  </thead>\n",
       "  <tbody>\n",
       "    <tr>\n",
       "      <th>const</th>\n",
       "      <td>2.588823</td>\n",
       "      <td>0.013725</td>\n",
       "      <td>188.625789</td>\n",
       "      <td>0.000000e+00</td>\n",
       "      <td>2.561915</td>\n",
       "      <td>2.615731</td>\n",
       "    </tr>\n",
       "    <tr>\n",
       "      <th>female</th>\n",
       "      <td>0.142043</td>\n",
       "      <td>0.020469</td>\n",
       "      <td>6.939545</td>\n",
       "      <td>4.546881e-12</td>\n",
       "      <td>0.101913</td>\n",
       "      <td>0.182172</td>\n",
       "    </tr>\n",
       "  </tbody>\n",
       "</table>\n",
       "</div>"
      ],
      "text/plain": [
       "           Coef.  Std.Err.           t         P>|t|    [0.025    0.975]\n",
       "const   2.588823  0.013725  188.625789  0.000000e+00  2.561915  2.615731\n",
       "female  0.142043  0.020469    6.939545  4.546881e-12  0.101913  0.182172"
      ]
     },
     "metadata": {},
     "output_type": "display_data"
    }
   ],
   "source": [
    "m1_param_summary = m1_results.summary2().tables[1]\n",
    "display(m1_param_summary)"
   ]
  },
  {
   "cell_type": "markdown",
   "metadata": {},
   "source": [
    "Q1 (a)\n",
    "\n",
    "We determine that the p-value for each of these coefficients is about zero< 0.05, meaning the values are statistically significant at a 95% confidence level. We find from the model here that for males, the expected college GPA is 2.58 while for females the expected college GPA is 2.72. "
   ]
  },
  {
   "cell_type": "code",
   "execution_count": 11,
   "metadata": {},
   "outputs": [],
   "source": [
    "#get residuals for m1 regression and save\n",
    "m1_residuals = m1_results.resid\n",
    "df['m1_residuals'] = m1_residuals"
   ]
  },
  {
   "cell_type": "code",
   "execution_count": 14,
   "metadata": {},
   "outputs": [],
   "source": [
    "#get residuals/colgpa for female\n",
    "m1_residuals_given_fem = df.groupby('female')['m1_residuals']\n",
    "m1_colgpa_given_fem = df.groupby('female')['colgpa']"
   ]
  },
  {
   "cell_type": "code",
   "execution_count": 66,
   "metadata": {},
   "outputs": [
    {
     "data": {
      "image/png": "[encoded data removed]",
      "text/plain": [
       "<Figure size 640x480 with 1 Axes>"
      ]
     },
     "metadata": {},
     "output_type": "display_data"
    }
   ],
   "source": [
    "df.boxplot(column='m1_residuals', by='female', grid=False)\n",
    "\n",
    "plt.xlabel('0 = male, 1 = female')\n",
    "plt.ylabel('Residuals')\n",
    "plt.title('Residuals by Female')\n",
    "plt.show()"
   ]
  },
  {
   "cell_type": "code",
   "execution_count": 70,
   "metadata": {},
   "outputs": [
    {
     "data": {
      "image/png": "[encoded data removed]",
      "text/plain": [
       "<Figure size 640x480 with 1 Axes>"
      ]
     },
     "metadata": {},
     "output_type": "display_data"
    }
   ],
   "source": [
    "df.boxplot(column='colgpa', by='female', grid=False)\n",
    "\n",
    "plt.xlabel('0 = male, 1 = female')\n",
    "plt.ylabel('colgpa')\n",
    "plt.title('College GPA by Female')\n",
    "plt.show()"
   ]
  },
  {
   "cell_type": "markdown",
   "metadata": {},
   "source": [
    "Q1 (b)\n",
    "It seemed like a boxplot would be the best visual, since a scatterplot was not useful here since we are regressing on an indicator. From this data, we can clearly see that the distribution of residuals conditional on female is slightly different for female=0 versus female=1. The distribution of the latter appears a bit tighter than that of the former. For the distribution of colgpa conditional on female, we see that the means are different for female=0 versus female=1 and the distribution for female=1 is not as far skewed left. These facts suggests it is possible that the data is heteroscedastic."
   ]
  },
  {
   "cell_type": "code",
   "execution_count": 53,
   "metadata": {},
   "outputs": [
    {
     "name": "stdout",
     "output_type": "stream",
     "text": [
      "                            OLS Regression Results                            \n",
      "==============================================================================\n",
      "Dep. Variable:                 colgpa   R-squared:                       0.197\n",
      "Model:                            OLS   Adj. R-squared:                  0.196\n",
      "Method:                 Least Squares   F-statistic:                     506.1\n",
      "Date:                Wed, 29 Jan 2025   Prob (F-statistic):          2.48e-197\n",
      "Time:                        01:25:12   Log-Likelihood:                -3689.1\n",
      "No. Observations:                4137   AIC:                             7384.\n",
      "Df Residuals:                    4134   BIC:                             7403.\n",
      "Df Model:                           2                                         \n",
      "Covariance Type:            nonrobust                                         \n",
      "==============================================================================\n",
      "                 coef    std err          t      P>|t|      [0.025      0.975]\n",
      "------------------------------------------------------------------------------\n",
      "const          0.4290      0.071      6.037      0.000       0.290       0.568\n",
      "female         0.2307      0.019     12.351      0.000       0.194       0.267\n",
      "sat            0.0021   6.67e-05     30.870      0.000       0.002       0.002\n",
      "==============================================================================\n",
      "Omnibus:                      129.908   Durbin-Watson:                   1.953\n",
      "Prob(Omnibus):                  0.000   Jarque-Bera (JB):              151.072\n",
      "Skew:                          -0.397   Prob(JB):                     1.57e-33\n",
      "Kurtosis:                       3.495   Cond. No.                     8.07e+03\n",
      "==============================================================================\n",
      "\n",
      "Notes:\n",
      "[1] Standard Errors assume that the covariance matrix of the errors is correctly specified.\n",
      "[2] The condition number is large, 8.07e+03. This might indicate that there are\n",
      "strong multicollinearity or other numerical problems.\n"
     ]
    }
   ],
   "source": [
    "#run OLS for model m2: colgpa_i = beta_0 + beta_1 * female_i + beta_2 * sat_i + V_i\n",
    "m2_y = df['colgpa']\n",
    "m2_X = df[['female', 'sat']]\n",
    "\n",
    "m2_X = sm.add_constant(m2_X)\n",
    "\n",
    "m2 = sm.OLS(m2_y, m2_X)\n",
    "m2_results = m2.fit()\n",
    "\n",
    "print(m2_results.summary())"
   ]
  },
  {
   "cell_type": "code",
   "execution_count": 42,
   "metadata": {},
   "outputs": [
    {
     "data": {
      "text/html": [
       "<div>\n",
       "<style scoped>\n",
       "    .dataframe tbody tr th:only-of-type {\n",
       "        vertical-align: middle;\n",
       "    }\n",
       "\n",
       "    .dataframe tbody tr th {\n",
       "        vertical-align: top;\n",
       "    }\n",
       "\n",
       "    .dataframe thead th {\n",
       "        text-align: right;\n",
       "    }\n",
       "</style>\n",
       "<table border=\"1\" class=\"dataframe\">\n",
       "  <thead>\n",
       "    <tr style=\"text-align: right;\">\n",
       "      <th></th>\n",
       "      <th>Coef.</th>\n",
       "      <th>Std.Err.</th>\n",
       "      <th>t</th>\n",
       "      <th>P&gt;|t|</th>\n",
       "      <th>[0.025</th>\n",
       "      <th>0.975]</th>\n",
       "    </tr>\n",
       "  </thead>\n",
       "  <tbody>\n",
       "    <tr>\n",
       "      <th>const</th>\n",
       "      <td>0.428954</td>\n",
       "      <td>0.071052</td>\n",
       "      <td>6.037147</td>\n",
       "      <td>1.706434e-09</td>\n",
       "      <td>0.289653</td>\n",
       "      <td>0.568255</td>\n",
       "    </tr>\n",
       "    <tr>\n",
       "      <th>female</th>\n",
       "      <td>0.230671</td>\n",
       "      <td>0.018676</td>\n",
       "      <td>12.351023</td>\n",
       "      <td>1.934165e-34</td>\n",
       "      <td>0.194055</td>\n",
       "      <td>0.267286</td>\n",
       "    </tr>\n",
       "    <tr>\n",
       "      <th>sat</th>\n",
       "      <td>0.002058</td>\n",
       "      <td>0.000067</td>\n",
       "      <td>30.869957</td>\n",
       "      <td>1.763594e-188</td>\n",
       "      <td>0.001927</td>\n",
       "      <td>0.002188</td>\n",
       "    </tr>\n",
       "  </tbody>\n",
       "</table>\n",
       "</div>"
      ],
      "text/plain": [
       "           Coef.  Std.Err.          t          P>|t|    [0.025    0.975]\n",
       "const   0.428954  0.071052   6.037147   1.706434e-09  0.289653  0.568255\n",
       "female  0.230671  0.018676  12.351023   1.934165e-34  0.194055  0.267286\n",
       "sat     0.002058  0.000067  30.869957  1.763594e-188  0.001927  0.002188"
      ]
     },
     "metadata": {},
     "output_type": "display_data"
    }
   ],
   "source": [
    "m2_param_summary = m2_results.summary2().tables[1]\n",
    "display(m2_param_summary)"
   ]
  },
  {
   "cell_type": "markdown",
   "metadata": {},
   "source": [
    "Q1 (c)\n",
    "The p-values here are all much less than 0.05, so they are statistically significant at the 95% level. These coefficients suggest that, holding SAT score fixed, being female rather than male leads to an expected increase of 0.23 in college GPA. Similarly, holding sex fixed, increasing SAT score by 1 point leads to a 0.002058 increase in college GPA. In more convincing units, an increase of 100 points on the SAT predicts a 0.2058 increase in college GPA. The coefficient for female increased from 0.1420 in M1 to 0.2306 here in M2. The implied OVB is then -0.0886. Since the coefficient for SAT in M2 is 0.002058 > 0 and the coefficient for female increased, from the formula for OVB of the coefficient for female, it follows that female and SAT must be negatively correlated.  "
   ]
  },
  {
   "cell_type": "markdown",
   "metadata": {},
   "source": [
    "Q1 (d)\n",
    "\n",
    "Supposing that the data is not homoscedastic (thus is heteroscedastic). The general estimates are valid but the general formula for the variance of beta^hat is $(X^T X)^{-1} X^T \\Omega X (X^T X)^{-1}.$ Under homoscedasticity, since $\\Omega$ is the matrix of $\\sigma_i^{2}$, it reduces to $I  \\sigma^{2}$, which when plugged back in reduces to the specific formula $\\sigma^{2}  (X^T  X)^{-1}$.\n"
   ]
  },
  {
   "cell_type": "code",
   "execution_count": 71,
   "metadata": {},
   "outputs": [
    {
     "name": "stdout",
     "output_type": "stream",
     "text": [
      "F statistic: 5.408578504710496\n",
      "p-value: 0.004509744881864397\n"
     ]
    }
   ],
   "source": [
    "#manually implement Breusch-Pagan\n",
    "\n",
    "##step 1: obtain squared residuals\n",
    "df['m2_residuals'] = m2_results.resid\n",
    "df['m2_residuals_sq'] = df['m2_residuals'] ** 2\n",
    "\n",
    "##step 2: regress squared residuals on independent variables\n",
    "bp_y = df['m2_residuals_sq']\n",
    "\n",
    "bp_X = sm.add_constant(df[['female', 'sat']])\n",
    "\n",
    "bp_model = sm.OLS(bp_y, bp_X)\n",
    "bp_results = bp_model.fit()\n",
    "\n",
    "R2 = bp_results.rsquared\n",
    "\n",
    "##step 3: compute F-statistic\n",
    "k = len(bp_X.columns) - 1 \n",
    "n = len(df)\n",
    "F_stat = (R2 / k) / ((1 - R2) / (n - k - 1))\n",
    "\n",
    "##step 4: compute p-value\n",
    "p_value_F = 1 - stats.f.cdf(F_stat, dfn=k, dfd=n - k - 1)\n",
    "print(f'F statistic: {F_stat}')\n",
    "print(f'p-value: {p_value_F}')"
   ]
  },
  {
   "cell_type": "markdown",
   "metadata": {},
   "source": [
    "Q1 (e)\n",
    "After testing for heteroscedasticity using the Breusch-Pagan and White test, we find a p-value of 0.0045, which is statistically significant at the 95% level, meaning we reject the null hypothesis that the data is homoscedastic."
   ]
  },
  {
   "cell_type": "code",
   "execution_count": 43,
   "metadata": {},
   "outputs": [
    {
     "name": "stdout",
     "output_type": "stream",
     "text": [
      "                            OLS Regression Results                            \n",
      "==============================================================================\n",
      "Dep. Variable:                 colgpa   R-squared:                       0.197\n",
      "Model:                            OLS   Adj. R-squared:                  0.196\n",
      "Method:                 Least Squares   F-statistic:                     536.5\n",
      "Date:                Wed, 29 Jan 2025   Prob (F-statistic):          7.01e-208\n",
      "Time:                        01:03:21   Log-Likelihood:                -3689.1\n",
      "No. Observations:                4137   AIC:                             7384.\n",
      "Df Residuals:                    4134   BIC:                             7403.\n",
      "Df Model:                           2                                         \n",
      "Covariance Type:                  HC0                                         \n",
      "==============================================================================\n",
      "                 coef    std err          z      P>|z|      [0.025      0.975]\n",
      "------------------------------------------------------------------------------\n",
      "const          0.4290      0.069      6.213      0.000       0.294       0.564\n",
      "female         0.2307      0.018     12.506      0.000       0.195       0.267\n",
      "sat            0.0021   6.51e-05     31.606      0.000       0.002       0.002\n",
      "==============================================================================\n",
      "Omnibus:                      129.908   Durbin-Watson:                   1.953\n",
      "Prob(Omnibus):                  0.000   Jarque-Bera (JB):              151.072\n",
      "Skew:                          -0.397   Prob(JB):                     1.57e-33\n",
      "Kurtosis:                       3.495   Cond. No.                     8.07e+03\n",
      "==============================================================================\n",
      "\n",
      "Notes:\n",
      "[1] Standard Errors are heteroscedasticity robust (HC0)\n",
      "[2] The condition number is large, 8.07e+03. This might indicate that there are\n",
      "strong multicollinearity or other numerical problems.\n"
     ]
    }
   ],
   "source": [
    "#rerun M2 but use robust standard errors\n",
    "m2rob_y = df['colgpa']\n",
    "m2rob_X = df[['female', 'sat']]\n",
    "\n",
    "m2rob_X = sm.add_constant(m2rob_X)\n",
    "\n",
    "m2rob = sm.OLS(m2rob_y, m2rob_X)\n",
    "m2rob_results = m2rob.fit(cov_type='HC0')\n",
    "\n",
    "print(m2rob_results.summary())"
   ]
  },
  {
   "cell_type": "code",
   "execution_count": 44,
   "metadata": {},
   "outputs": [
    {
     "data": {
      "text/html": [
       "<div>\n",
       "<style scoped>\n",
       "    .dataframe tbody tr th:only-of-type {\n",
       "        vertical-align: middle;\n",
       "    }\n",
       "\n",
       "    .dataframe tbody tr th {\n",
       "        vertical-align: top;\n",
       "    }\n",
       "\n",
       "    .dataframe thead th {\n",
       "        text-align: right;\n",
       "    }\n",
       "</style>\n",
       "<table border=\"1\" class=\"dataframe\">\n",
       "  <thead>\n",
       "    <tr style=\"text-align: right;\">\n",
       "      <th></th>\n",
       "      <th>Coef.</th>\n",
       "      <th>Std.Err.</th>\n",
       "      <th>z</th>\n",
       "      <th>P&gt;|z|</th>\n",
       "      <th>[0.025</th>\n",
       "      <th>0.975]</th>\n",
       "    </tr>\n",
       "  </thead>\n",
       "  <tbody>\n",
       "    <tr>\n",
       "      <th>const</th>\n",
       "      <td>0.428954</td>\n",
       "      <td>0.069044</td>\n",
       "      <td>6.212730</td>\n",
       "      <td>5.207183e-10</td>\n",
       "      <td>0.293630</td>\n",
       "      <td>0.564279</td>\n",
       "    </tr>\n",
       "    <tr>\n",
       "      <th>female</th>\n",
       "      <td>0.230671</td>\n",
       "      <td>0.018445</td>\n",
       "      <td>12.505847</td>\n",
       "      <td>6.935678e-36</td>\n",
       "      <td>0.194519</td>\n",
       "      <td>0.266822</td>\n",
       "    </tr>\n",
       "    <tr>\n",
       "      <th>sat</th>\n",
       "      <td>0.002058</td>\n",
       "      <td>0.000065</td>\n",
       "      <td>31.606197</td>\n",
       "      <td>3.034827e-219</td>\n",
       "      <td>0.001930</td>\n",
       "      <td>0.002185</td>\n",
       "    </tr>\n",
       "  </tbody>\n",
       "</table>\n",
       "</div>"
      ],
      "text/plain": [
       "           Coef.  Std.Err.          z          P>|z|    [0.025    0.975]\n",
       "const   0.428954  0.069044   6.212730   5.207183e-10  0.293630  0.564279\n",
       "female  0.230671  0.018445  12.505847   6.935678e-36  0.194519  0.266822\n",
       "sat     0.002058  0.000065  31.606197  3.034827e-219  0.001930  0.002185"
      ]
     },
     "metadata": {},
     "output_type": "display_data"
    }
   ],
   "source": [
    "m2rob_param_summary = m2rob_results.summary2().tables[1]\n",
    "display(m2rob_param_summary)"
   ]
  },
  {
   "cell_type": "markdown",
   "metadata": {},
   "source": [
    "Q1 (f)\n",
    "\n",
    "From the Breusch-Pagan and White test, we determined that the data is heteroscedastic and thus we might reduce the variance around our estimates by applying robust standard errors. Looking at the standard errors for each coefficient between the regressions, we see that each decreased slightly. This conforms to expectations."
   ]
  },
  {
   "cell_type": "code",
   "execution_count": 59,
   "metadata": {},
   "outputs": [
    {
     "data": {
      "text/plain": [
       "0       0.712950\n",
       "1       1.386294\n",
       "2       0.576613\n",
       "3       0.883768\n",
       "4       0.959350\n",
       "          ...   \n",
       "4132    0.806476\n",
       "4133    0.900161\n",
       "4134    1.386294\n",
       "4135    1.040277\n",
       "4136    1.371181\n",
       "Name: log_colgpa, Length: 4137, dtype: float32"
      ]
     },
     "execution_count": 59,
     "metadata": {},
     "output_type": "execute_result"
    }
   ],
   "source": [
    "df['log_colgpa']"
   ]
  },
  {
   "cell_type": "code",
   "execution_count": 61,
   "metadata": {},
   "outputs": [
    {
     "name": "stdout",
     "output_type": "stream",
     "text": [
      "                            OLS Regression Results                            \n",
      "==============================================================================\n",
      "Dep. Variable:             log_colgpa   R-squared:                         nan\n",
      "Model:                            OLS   Adj. R-squared:                    nan\n",
      "Method:                 Least Squares   F-statistic:                       nan\n",
      "Date:                Wed, 29 Jan 2025   Prob (F-statistic):                nan\n",
      "Time:                        01:51:12   Log-Likelihood:                    nan\n",
      "No. Observations:                4137   AIC:                               nan\n",
      "Df Residuals:                    4134   BIC:                               nan\n",
      "Df Model:                           2                                         \n",
      "Covariance Type:            nonrobust                                         \n",
      "==============================================================================\n",
      "                 coef    std err          t      P>|t|      [0.025      0.975]\n",
      "------------------------------------------------------------------------------\n",
      "const             nan        nan        nan        nan         nan         nan\n",
      "female            inf        nan        nan        nan         nan         nan\n",
      "sat               nan        nan        nan        nan         nan         nan\n",
      "==============================================================================\n",
      "Omnibus:                          nan   Durbin-Watson:                     nan\n",
      "Prob(Omnibus):                    nan   Jarque-Bera (JB):                  nan\n",
      "Skew:                             nan   Prob(JB):                          nan\n",
      "Kurtosis:                         nan   Cond. No.                     8.07e+03\n",
      "==============================================================================\n",
      "\n",
      "Notes:\n",
      "[1] Standard Errors assume that the covariance matrix of the errors is correctly specified.\n",
      "[2] The condition number is large, 8.07e+03. This might indicate that there are\n",
      "strong multicollinearity or other numerical problems.\n"
     ]
    },
    {
     "name": "stderr",
     "output_type": "stream",
     "text": [
      "/Library/Frameworks/Python.framework/Versions/3.10/lib/python3.10/site-packages/pandas/core/arraylike.py:399: RuntimeWarning: divide by zero encountered in log\n",
      "  result = getattr(ufunc, method)(*inputs, **kwargs)\n",
      "/Library/Frameworks/Python.framework/Versions/3.10/lib/python3.10/site-packages/statsmodels/regression/linear_model.py:1733: RuntimeWarning: invalid value encountered in subtract\n",
      "  return np.sum(weights * (model.endog - mean)**2)\n"
     ]
    }
   ],
   "source": [
    "#investigate functional form: regress log(colgpa) on female and sat\n",
    "df['log_colgpa'] = np.log(df['colgpa'])\n",
    "\n",
    "X_log = sm.add_constant(df[['female', 'sat']])\n",
    "y_log = df['log_colgpa']\n",
    "log_model = sm.OLS(y_log, X_log).fit()\n",
    "\n",
    "print(log_model.summary())"
   ]
  },
  {
   "cell_type": "markdown",
   "metadata": {},
   "source": [
    "Q1 (g)\n",
    "\n",
    "As the output above shows, I was unable to regress log(colgpa) on female and sat for reasons that elude me at the moment. Also, it is clear that since colleges run admissions processes where students with higher SAT scores are more likey to be admitted to certain schools, this might make the relationship between college GPA and SAT harder to interpret because certain schools (or programs within those schools) might have a different grading distribution."
   ]
  },
  {
   "cell_type": "markdown",
   "metadata": {},
   "source": [
    "Q1 (h)\n",
    "\n",
    "If we assume the true population model for college GPA is linear and a function of the covariates for sex, SAT score, and hsperc, then we may have an omitted variable bias. The magnitude of the bias for beta_2^hat is equal to the true parameter beta_3 * Cov(sat, hsperc) / Var(sat). If we assume homoscedasticity, then the variance for beta_2^hat is equal to sigma^2 / SST_j * (1 - R_j^2), as given on slide 57 of Lecture 2. By adding another variable to our set of covariates, we increase the value of R_j^2 and thus decrease the denominator of this term, which increases the variance of beta_j^hat. \n"
   ]
  },
  {
   "cell_type": "markdown",
   "metadata": {},
   "source": [
    "Q1 (i)\n",
    "\n",
    "The ideal randomized experiment to estimate the causal effect of female on colgpa would allow us to take a random sample of people from both female=0 and female=1 and give them equal treatment–send them to the same college, with equal resources, ask them to take the same classes and engage in the same extracurriculars, etc. "
   ]
  },
  {
   "cell_type": "markdown",
   "metadata": {},
   "source": [
    "Q1 (j)\n",
    "\n",
    "Empirically, implementing a process described above is difficult because convincing people to make major life choices for the sake of a study is usually not practical. Also, controlling for other important factors like activities outside of school is difficult. Conceptually, it is also debatable whether it makes sense to estimate a causal effect of female. We cannot randomly assign the treatment 'female'=1 or 0 to any given person and see how it impacts them. We can only experiment on people who have already been assigned a value for 'female'. "
   ]
  },
  {
   "cell_type": "markdown",
   "metadata": {},
   "source": [
    "Q1 (k)\n",
    "\n",
    "I personally find MLR4 to be not to be credible given that we only have one predictor with an R^2 of 0.01. Other key variables might be: indicator{private school}, geography, number of clubs involved with, household income, high school GPA. I think including the most important omitted variable in M1 would dramatically increase the predictive power of the model and, since I'd expect both female=1 and this important omitted variable to be positive correlated with college GPA, the implied OVB will be negative and therefore the coefficient for female will decrease or remain about the same. "
   ]
  }
 ],
 "metadata": {
  "kernelspec": {
   "display_name": "Python 3",
   "language": "python",
   "name": "python3"
  },
  "language_info": {
   "codemirror_mode": {
    "name": "ipython",
    "version": 3
   },
   "file_extension": ".py",
   "mimetype": "text/x-python",
   "name": "python",
   "nbconvert_exporter": "python",
   "pygments_lexer": "ipython3",
   "version": "3.10.4"
  }
 },
 "nbformat": 4,
 "nbformat_minor": 2
}
